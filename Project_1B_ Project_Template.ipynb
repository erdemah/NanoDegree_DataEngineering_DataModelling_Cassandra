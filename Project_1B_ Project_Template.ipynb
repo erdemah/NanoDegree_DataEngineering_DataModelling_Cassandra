{
 "cells": [
  {
   "cell_type": "markdown",
   "metadata": {},
   "source": [
    "# Part I. ETL Pipeline for Pre-Processing the Files"
   ]
  },
  {
   "cell_type": "markdown",
   "metadata": {},
   "source": [
    "#### Import Python packages "
   ]
  },
  {
   "cell_type": "code",
   "execution_count": 1,
   "metadata": {},
   "outputs": [],
   "source": [
    "# Importing Python packages \n",
    "import cassandra\n",
    "import os\n",
    "import glob\n",
    "import csv"
   ]
  },
  {
   "cell_type": "markdown",
   "metadata": {},
   "source": [
    "#### Creating list of filepaths to process original event csv data files"
   ]
  },
  {
   "cell_type": "code",
   "execution_count": 2,
   "metadata": {},
   "outputs": [],
   "source": [
    "# get the current working directory\n",
    "#print(os.getcwd())\n",
    "\n",
    "# Get the current folder and subfolder event data\n",
    "filepath = os.getcwd() + '/event_data'\n",
    "    \n",
    "# Gathering the paths of the csv files\n",
    "for root, dirs, files in os.walk(filepath):\n",
    "# join the file path and roots with the subdirectories using glob\n",
    "    file_path_list = glob.glob(os.path.join(root,'*.csv'))"
   ]
  },
  {
   "cell_type": "markdown",
   "metadata": {},
   "source": [
    "#### Processing the files to create the data file csv that will be used for Apache Casssandra tables"
   ]
  },
  {
   "cell_type": "code",
   "execution_count": 3,
   "metadata": {},
   "outputs": [],
   "source": [
    "# initiating an empty list of rows that will be generated from each file\n",
    "full_data_rows_list = [] \n",
    "    \n",
    "# for every filepath in the file path list \n",
    "for f in file_path_list:\n",
    "\n",
    "# reading csv file \n",
    "    with open(f, 'r', encoding = 'utf8', newline='') as csvfile: \n",
    "        # creating a csv reader object \n",
    "        csvreader = csv.reader(csvfile) \n",
    "        next(csvreader)\n",
    "        \n",
    " # extracting each data row one by one and append it        \n",
    "        for line in csvreader:\n",
    "            full_data_rows_list.append(line) \n",
    "            \n",
    "# uncomment the code below to get total number of rows \n",
    "# print(len(full_data_rows_list))\n",
    "# uncomment the code below to see what the list of event data rows will look like\n",
    "#print(full_data_rows_list)"
   ]
  },
  {
   "cell_type": "code",
   "execution_count": 4,
   "metadata": {},
   "outputs": [],
   "source": [
    "# creating a smaller event data csv file called event_datafile_full csv that will be used to insert data into the \\\n",
    "# Apache Cassandra tables\n",
    "csv.register_dialect('myDialect', quoting=csv.QUOTE_ALL, skipinitialspace=True)\n",
    "\n",
    "with open('event_datafile_new.csv', 'w', encoding = 'utf8', newline='') as f:\n",
    "    writer = csv.writer(f, dialect='myDialect')\n",
    "    writer.writerow(['artist','firstName','gender','itemInSession','lastName','length',\\\n",
    "                'level','location','sessionId','song','userId'])\n",
    "    for row in full_data_rows_list:\n",
    "        #if artist name is empty, skip that row.\n",
    "        if (row[0] == ''):\n",
    "            continue\n",
    "        writer.writerow((row[0], row[2], row[3], row[4], row[5], row[6], row[7], row[8], row[12], row[13], row[16]))"
   ]
  },
  {
   "cell_type": "code",
   "execution_count": 5,
   "metadata": {},
   "outputs": [
    {
     "name": "stdout",
     "output_type": "stream",
     "text": [
      "6821\n"
     ]
    }
   ],
   "source": [
    "# checking the number of rows in your csv file\n",
    "with open('event_datafile_new.csv', 'r', encoding = 'utf8') as f:\n",
    "    print(sum(1 for line in f))\n",
    "f.close()"
   ]
  },
  {
   "cell_type": "markdown",
   "metadata": {},
   "source": [
    "# Part II. Inserting Data Into Apache Cassandra\n",
    "\n",
    "## The file <font color=red>event_datafile_new.csv</font> will be used to create tables based on queries. The columns of the data is as follows:\n",
    "- artist \n",
    "- firstName of user\n",
    "- gender of user\n",
    "- item number in session\n",
    "- last name of user\n",
    "- length of the song\n",
    "- level (paid or free song)\n",
    "- location of the user\n",
    "- sessionId\n",
    "- song title\n",
    "- userId"
   ]
  },
  {
   "cell_type": "markdown",
   "metadata": {},
   "source": [
    "#### Creating a Cluster"
   ]
  },
  {
   "cell_type": "code",
   "execution_count": 6,
   "metadata": {},
   "outputs": [],
   "source": [
    "from cassandra.cluster import Cluster\n",
    "# Creating a Cassandra instance in local machine \n",
    "cluster = Cluster(['127.0.0.1'])\n",
    "\n",
    "# To establish connection and begin executing queries, need a session\n",
    "session = cluster.connect()"
   ]
  },
  {
   "cell_type": "markdown",
   "metadata": {},
   "source": [
    "#### Creating a Keyspace"
   ]
  },
  {
   "cell_type": "code",
   "execution_count": 7,
   "metadata": {},
   "outputs": [],
   "source": [
    "# A keyspace in Cassandra is a namespace that defines data replication on nodes. A cluster contains one keyspace per node.\n",
    "try:\n",
    "    session.execute(\"\"\"\n",
    "    CREATE KEYSPACE IF NOT EXISTS csndra \n",
    "    WITH REPLICATION = \n",
    "    { 'class' : 'SimpleStrategy', 'replication_factor' : 1 }\"\"\"\n",
    ")\n",
    "\n",
    "except Exception as e:\n",
    "    print(e)"
   ]
  },
  {
   "cell_type": "markdown",
   "metadata": {},
   "source": [
    "#### Setting the Keyspace"
   ]
  },
  {
   "cell_type": "code",
   "execution_count": 8,
   "metadata": {},
   "outputs": [],
   "source": [
    "try:\n",
    "    session.set_keyspace('csndra')\n",
    "except Exception as e:\n",
    "    print(e)"
   ]
  },
  {
   "cell_type": "markdown",
   "metadata": {},
   "source": [
    "## Create queries to ask the following three questions of the data\n",
    "\n",
    "### 1. Give me the artist, song title and song's length in the music app history that was heard during  sessionId = 338, and itemInSession  = 4\n",
    "\n",
    "\n",
    "### 2. Give me only the following: name of artist, song (sorted by itemInSession) and user (first and last name) for userid = 10, sessionid = 182\n",
    "    \n",
    "\n",
    "### 3. Give me every user name (first and last) in my music app history who listened to the song 'All Hands Against His Own'\n",
    "\n",
    "\n"
   ]
  },
  {
   "cell_type": "code",
   "execution_count": 9,
   "metadata": {},
   "outputs": [],
   "source": [
    "# file name\n",
    "file = 'event_datafile_new.csv'\n",
    "# column names of the data in 'event_datafile_new.csv'\n",
    "header_list = ['artist','firstName','gender','itemInSession','lastName','length','level','location','sessionId','song','userId']"
   ]
  },
  {
   "cell_type": "markdown",
   "metadata": {},
   "source": [
    "### QUERY 1"
   ]
  },
  {
   "cell_type": "code",
   "execution_count": 10,
   "metadata": {},
   "outputs": [],
   "source": [
    "# Query 1:  Give me the artist, song title and song's length in the music app history that was heard during \\\n",
    "## sessionId = 338, and itemInSession = 4\n",
    "query1 = \"SELECT * FROM music_app_session WHERE session_id = 338 AND item_in_session = 4\"                "
   ]
  },
  {
   "cell_type": "code",
   "execution_count": 11,
   "metadata": {},
   "outputs": [],
   "source": [
    "# CREATING TABLE FOR QUERY 1\n",
    "query = \"CREATE TABLE IF NOT EXISTS music_app_session \"\n",
    "# One unique session_id could have many items in session. Together they form a unique pair.\n",
    "# The primary key has been defined by focusing on the WHERE statement in our query.\n",
    "query = query + \"(artist_name varchar, song_title varchar, song_length double, session_id int, item_in_session int, \\\n",
    "PRIMARY KEY (session_id, item_in_session))\"\n",
    "try:\n",
    "    session.execute(query)\n",
    "except Exception as e:\n",
    "    print(e)"
   ]
  },
  {
   "cell_type": "code",
   "execution_count": 12,
   "metadata": {},
   "outputs": [],
   "source": [
    "# Opening file to read\n",
    "with open(file, encoding = 'utf8') as f:\n",
    "    csvreader = csv.reader(f)\n",
    "    next(csvreader) # skip header\n",
    "    for line in csvreader:\n",
    "        query = \"INSERT INTO music_app_session (artist_name, song_title, song_length, session_id, item_in_session)\"\n",
    "        query = query + \" VALUES(%s, %s, %s, %s, %s)\"\n",
    "        \n",
    "        # matching header for that particular row in the loop as key:value pairs - a dict to increase readibility.\n",
    "        match_row = dict(zip(header_list,line))\n",
    "        \n",
    "        try:\n",
    "            session.execute(query, (match_row['artist'], match_row['song'], float(match_row['length']), \\\n",
    "                                int(match_row['sessionId']), int(match_row['itemInSession'])))\n",
    "        except Exception as e:\n",
    "            print(e)\n",
    "f.close()"
   ]
  },
  {
   "cell_type": "code",
   "execution_count": 13,
   "metadata": {
    "scrolled": true
   },
   "outputs": [
    {
     "name": "stdout",
     "output_type": "stream",
     "text": [
      "Faithless , Music Matters (Mark Knight Dub) , 495.3073\n"
     ]
    }
   ],
   "source": [
    "## Verifying the data was entered into the table\n",
    "## Since the where condition (session_id and item_in_session) represents the primary key in the table,\n",
    "## the result is a single row of data.\n",
    "try:\n",
    "    rows = session.execute(query1)\n",
    "except Exception as e:\n",
    "    print(e)\n",
    "    \n",
    "for row in rows:\n",
    "    print (row.artist_name, ',', row.song_title, ',', row.song_length)"
   ]
  },
  {
   "cell_type": "markdown",
   "metadata": {},
   "source": [
    "### QUERY 2"
   ]
  },
  {
   "cell_type": "code",
   "execution_count": 14,
   "metadata": {},
   "outputs": [],
   "source": [
    "## Query 2: Give me only the following: name of artist, song (sorted by itemInSession) and user (first and last name)\\\n",
    "## for userid = 10, sessionid = 182\n",
    "query2 = \"SELECT * FROM music_app_artist_user WHERE user_id = 10 AND session_id = 182\"                    "
   ]
  },
  {
   "cell_type": "code",
   "execution_count": 15,
   "metadata": {},
   "outputs": [],
   "source": [
    "# CREATING TABLE FOR QUERY 2\n",
    "query = \"CREATE TABLE IF NOT EXISTS music_app_artist_user \"\n",
    "# partition key: user_id, clustering columns: item_in_session for sorting, session_id to make the PK unique, because\n",
    "# there can be duplicate user_id and item_in_session in different session_ids\n",
    "query = query + \"(artist_name varchar, song_title varchar, first_name varchar, last_name varchar, item_in_session int, \\\n",
    "user_id int, session_id int, PRIMARY KEY (user_id, session_id, item_in_session))\"\n",
    "try:\n",
    "    session.execute(query)\n",
    "except Exception as e:\n",
    "    print(e)"
   ]
  },
  {
   "cell_type": "code",
   "execution_count": 16,
   "metadata": {},
   "outputs": [],
   "source": [
    "# file name\n",
    "file = 'event_datafile_new.csv'\n",
    "# column names of the data in 'event_datafile_new.csv'\n",
    "header_list = ['artist','firstName','gender','itemInSession','lastName','length','level','location','sessionId','song','userId']\n",
    "# opening file\n",
    "with open(file, encoding = 'utf8') as f:\n",
    "    csvreader = csv.reader(f)\n",
    "    next(csvreader) # skip header\n",
    "    for line in csvreader:\n",
    "        query = \"INSERT INTO music_app_artist_user (artist_name, song_title, first_name, last_name, item_in_session, \\\n",
    "        user_id, session_id)\"\n",
    "        query = query + \" VALUES(%s, %s, %s, %s, %s, %s, %s)\"\n",
    "        \n",
    "        # matching header for that particular row in the loop as key:value pairs - a dict to increase readibility.\n",
    "        match_row = dict(zip(header_list,line))\n",
    "        \n",
    "        try:\n",
    "            session.execute(query, (match_row['artist'], match_row['song'], match_row['firstName'], match_row['lastName'], \\\n",
    "                                    int(match_row['itemInSession']), int(match_row['userId']), int(match_row['sessionId'])))\n",
    "        except Exception as e:\n",
    "            print(e)\n",
    "f.close()"
   ]
  },
  {
   "cell_type": "code",
   "execution_count": 17,
   "metadata": {},
   "outputs": [
    {
     "name": "stdout",
     "output_type": "stream",
     "text": [
      "Down To The Bone , Keep On Keepin' On , Sylvie , Cruz\n",
      "Three Drives , Greece 2000 , Sylvie , Cruz\n",
      "Sebastien Tellier , Kilometer , Sylvie , Cruz\n",
      "Lonnie Gordon , Catch You Baby (Steve Pitron & Max Sanna Radio Edit) , Sylvie , Cruz\n"
     ]
    }
   ],
   "source": [
    "## Verifying the data was entered into the table\n",
    "## For user_id 10 in session_id 182, there are 4 corresponding songs existing.\n",
    "\n",
    "# One session_id belongs to one particular user_id; therefore,\n",
    "# it's expected to get the same user names in the output.\n",
    "\n",
    "### The output is ordered based on the order of clustering columns, meaning \n",
    "### it's ordered firstly by session_id, then item_in_session. \n",
    "### Since session_id is fixed at 182, the output is ordered by item_in_session\n",
    "try:\n",
    "    rows = session.execute(query2)\n",
    "except Exception as e:\n",
    "    print(e)\n",
    "    \n",
    "for row in rows:\n",
    "    print (row.artist_name, ',', row.song_title, ',', row.first_name, ',', row.last_name)"
   ]
  },
  {
   "cell_type": "markdown",
   "metadata": {},
   "source": [
    "### QUERY 3"
   ]
  },
  {
   "cell_type": "code",
   "execution_count": 18,
   "metadata": {},
   "outputs": [],
   "source": [
    "## Query 3: Give me every user name (first and last) in my music app history\n",
    "## who listened to the song 'All Hands Against His Own'\n",
    "query3 = \"SELECT * FROM music_app_song_user WHERE song_title = 'All Hands Against His Own'\" "
   ]
  },
  {
   "cell_type": "code",
   "execution_count": 19,
   "metadata": {},
   "outputs": [],
   "source": [
    "# CREATING TABLE FOR QUERY 3\n",
    "query = \"CREATE TABLE IF NOT EXISTS music_app_song_user \"\n",
    "# partition key: song_title, clustering columns: user_id and session_id to make the PK unique, because\n",
    "# there can be duplicate song_title and user_id together in different sessions.\n",
    "query = query + \"(first_name varchar, last_name varchar, song_title varchar, user_id int, session_id int, \\\n",
    "PRIMARY KEY (song_title, user_id, session_id))\"\n",
    "try:\n",
    "    session.execute(query)\n",
    "except Exception as e:\n",
    "    print(e)"
   ]
  },
  {
   "cell_type": "code",
   "execution_count": 20,
   "metadata": {},
   "outputs": [],
   "source": [
    "# opening file\n",
    "with open(file, encoding = 'utf8') as f:\n",
    "    csvreader = csv.reader(f)\n",
    "    next(csvreader) # skip header\n",
    "    for line in csvreader:\n",
    "        query = \"INSERT INTO music_app_song_user (first_name, last_name, song_title, user_id, session_id)\"\n",
    "        query = query + \" VALUES(%s, %s, %s, %s, %s)\"\n",
    "        \n",
    "        # matching header for that particular row in the loop as key:value pairs - a dict to increase readibility.\n",
    "        match_row = dict(zip(header_list,line))\n",
    "        \n",
    "        try:\n",
    "            session.execute(query, (match_row['firstName'], match_row['lastName'], match_row['song'], int(match_row['userId']),\\\n",
    "                                    int(match_row['sessionId'])))\n",
    "        except Exception as e:\n",
    "            print(e)\n",
    "f.close()"
   ]
  },
  {
   "cell_type": "code",
   "execution_count": 21,
   "metadata": {},
   "outputs": [
    {
     "name": "stdout",
     "output_type": "stream",
     "text": [
      "Jacqueline , Lynch\n",
      "Tegan , Levine\n",
      "Sara , Johnson\n"
     ]
    }
   ],
   "source": [
    "## Verifying the data was entered into the table\n",
    "\n",
    "## There are three users who listened to 'All Hands Against His Own'\n",
    "try:\n",
    "    rows = session.execute(query3)\n",
    "except Exception as e:\n",
    "    print(e)\n",
    "    \n",
    "for row in rows:\n",
    "    print (row.first_name, ',', row.last_name)"
   ]
  },
  {
   "cell_type": "markdown",
   "metadata": {},
   "source": [
    "### Dropping the tables before closing out the sessions"
   ]
  },
  {
   "cell_type": "code",
   "execution_count": 22,
   "metadata": {},
   "outputs": [],
   "source": [
    "# Dropping tables before closing out the sessions\n",
    "query1_drop = \"drop table music_app_session\"\n",
    "try:\n",
    "    rows = session.execute(query1_drop)\n",
    "except Exception as e:\n",
    "    print(e)\n",
    "    \n",
    "query2_drop = \"drop table music_app_artist_user\"\n",
    "try:\n",
    "    rows = session.execute(query2_drop)\n",
    "except Exception as e:\n",
    "    print(e)\n",
    "    \n",
    "query3_drop = \"drop table music_app_song_user\"\n",
    "try:\n",
    "    rows = session.execute(query3_drop)\n",
    "except Exception as e:\n",
    "    print(e)"
   ]
  },
  {
   "cell_type": "markdown",
   "metadata": {},
   "source": [
    "### Closing the session and cluster connection¶"
   ]
  },
  {
   "cell_type": "code",
   "execution_count": 23,
   "metadata": {},
   "outputs": [],
   "source": [
    "session.shutdown()\n",
    "cluster.shutdown()"
   ]
  }
 ],
 "metadata": {
  "kernelspec": {
   "display_name": "Python 3",
   "language": "python",
   "name": "python3"
  },
  "language_info": {
   "codemirror_mode": {
    "name": "ipython",
    "version": 3
   },
   "file_extension": ".py",
   "mimetype": "text/x-python",
   "name": "python",
   "nbconvert_exporter": "python",
   "pygments_lexer": "ipython3",
   "version": "3.7.6"
  }
 },
 "nbformat": 4,
 "nbformat_minor": 2
}
